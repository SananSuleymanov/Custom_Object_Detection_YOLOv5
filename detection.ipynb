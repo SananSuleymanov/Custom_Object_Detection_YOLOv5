{
  "nbformat": 4,
  "nbformat_minor": 0,
  "metadata": {
    "colab": {
      "name": "Untitled36.ipynb",
      "provenance": [],
      "mount_file_id": "1y7sKk0AyLxMBzIi3JM0g4XoqZeibpEnt",
      "authorship_tag": "ABX9TyP4PlSldKC/w4lZxpaw/qOF",
      "include_colab_link": true
    },
    "kernelspec": {
      "name": "python3",
      "display_name": "Python 3"
    },
    "language_info": {
      "name": "python"
    }
  },
  "cells": [
    {
      "cell_type": "markdown",
      "metadata": {
        "id": "view-in-github",
        "colab_type": "text"
      },
      "source": [
        "<a href=\"https://colab.research.google.com/github/SananSuleymanov/Custom_Object_Detection_YOLOv5/blob/main/detection.ipynb\" target=\"_parent\"><img src=\"https://colab.research.google.com/assets/colab-badge.svg\" alt=\"Open In Colab\"/></a>"
      ]
    },
    {
      "cell_type": "code",
      "metadata": {
        "colab": {
          "base_uri": "https://localhost:8080/"
        },
        "id": "sXp6TO5bZ8Dg",
        "outputId": "3d04feda-c812-41e9-e6e2-7bfd22a950a5"
      },
      "source": [
        "cd /content/drive/MyDrive/Yolo"
      ],
      "execution_count": null,
      "outputs": [
        {
          "output_type": "stream",
          "name": "stdout",
          "text": [
            "/content/drive/MyDrive/Yolo\n"
          ]
        }
      ]
    },
    {
      "cell_type": "code",
      "metadata": {
        "id": "iO12u2A8Vxc_"
      },
      "source": [
        "!git clone https://github.com/ultralytics/yolov5  # clone\n",
        "%cd yolov5\n",
        "%pip install -qr requirements.txt  # install"
      ],
      "execution_count": null,
      "outputs": []
    },
    {
      "cell_type": "code",
      "metadata": {
        "id": "XOW61-8NY3Mb"
      },
      "source": [
        "!python train.py --img 640 --batch 16 --epochs 150 --data custom_coco.yaml --weights yolov5s.pt --cache"
      ],
      "execution_count": null,
      "outputs": []
    }
  ]
}